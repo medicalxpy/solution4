{
 "cells": [
  {
   "cell_type": "code",
   "execution_count": 1,
   "metadata": {},
   "outputs": [
    {
     "name": "stderr",
     "output_type": "stream",
     "text": [
      "/volume1/home/pxie/.local/lib/python3.9/site-packages/cupy/_environment.py:437: UserWarning: \n",
      "--------------------------------------------------------------------------------\n",
      "\n",
      "  CuPy may not function correctly because multiple CuPy packages are installed\n",
      "  in your environment:\n",
      "\n",
      "    cupy-cuda101, cupy-cuda117\n",
      "\n",
      "  Follow these steps to resolve this issue:\n",
      "\n",
      "    1. For all packages listed above, run the following command to remove all\n",
      "       existing CuPy installations:\n",
      "\n",
      "         $ pip uninstall <package_name>\n",
      "\n",
      "      If you previously installed CuPy via conda, also run the following:\n",
      "\n",
      "         $ conda uninstall cupy\n",
      "\n",
      "    2. Install the appropriate CuPy package.\n",
      "       Refer to the Installation Guide for detailed instructions.\n",
      "\n",
      "         https://docs.cupy.dev/en/stable/install.html\n",
      "\n",
      "--------------------------------------------------------------------------------\n",
      "\n",
      "  warnings.warn(f'''\n"
     ]
    },
    {
     "name": "stdout",
     "output_type": "stream",
     "text": [
      "cell_topic_matrix形状: (66985, 50)\n",
      "cell_type_labels长度: 9\n"
     ]
    }
   ],
   "source": [
    "import pandas as pd\n",
    "import numpy as np\n",
    "from utils.data_preprocess import preprocess_h5ad\n",
    "cell_topic_path = \"/volume1/home/pxie/topic_model/solution4/results/gpt_base_fsuion_2_PBMC_t50_c.csv\"\n",
    "cell_topic_matrix = pd.read_csv(cell_topic_path, index_col=0)  \n",
    "cell_topic_matrix = cell_topic_matrix.values  \n",
    "adata_path = r\"/volume1/home/pxie/data/PBMC.h5ad\"\n",
    "#adata_path = r\"/volume1/home/pxie/data/combined_data.h5ad\"\n",
    "#adata_path = r\"/volume1/home/pxie/data/Cortex.h5ad\"\n",
    "adata = preprocess_h5ad(adata_path)\n",
    "cell_type_labels = adata.obs[\"cell_type\"].values\n",
    "print(f\"cell_topic_matrix形状: {cell_topic_matrix.shape}\")\n",
    "print(f\"cell_type_labels长度: {len(set(cell_type_labels))}\")"
   ]
  },
  {
   "cell_type": "code",
   "execution_count": 2,
   "metadata": {},
   "outputs": [
    {
     "name": "stderr",
     "output_type": "stream",
     "text": [
      "/usr/local/anaconda3/lib/python3.9/site-packages/sklearn/cluster/_kmeans.py:870: FutureWarning: The default value of `n_init` will change from 10 to 'auto' in 1.4. Set the value of `n_init` explicitly to suppress the warning\n",
      "  warnings.warn(\n"
     ]
    },
    {
     "name": "stdout",
     "output_type": "stream",
     "text": [
      "ARI: 0.2508420414561231\n",
      "NMI: 0.4553119250250949\n"
     ]
    }
   ],
   "source": [
    "from sklearn.metrics import adjusted_rand_score, normalized_mutual_info_score\n",
    "from sklearn.cluster import KMeans\n",
    "from sklearn.metrics import silhouette_samples\n",
    "\n",
    "# 聚类 (K 取细胞类型数目)\n",
    "num_clusters = len(set(cell_type_labels))\n",
    "kmeans = KMeans(n_clusters=num_clusters, random_state=42)\n",
    "topic_clusters = kmeans.fit_predict(cell_topic_matrix)\n",
    "\n",
    "# 计算 ARI\n",
    "ari = adjusted_rand_score(cell_type_labels, topic_clusters)\n",
    "print(\"ARI:\", ari)\n",
    "\n",
    "# 计算 NMI\n",
    "nmi = normalized_mutual_info_score(cell_type_labels, topic_clusters)\n",
    "print(\"NMI:\", nmi)\n",
    "\n",
    "# 计算 ASW\n",
    "# silhouette_vals = silhouette_samples(cell_topic_matrix, topic_clusters)\n",
    "# asw = silhouette_vals.mean()\n",
    "# print(\"ASW:\", asw)"
   ]
  },
  {
   "cell_type": "code",
   "execution_count": 5,
   "metadata": {},
   "outputs": [
    {
     "name": "stdout",
     "output_type": "stream",
     "text": [
      "合并后的cell_topic_matrix形状: (87455, 49)\n",
      "合并后的cell_type_labels长度: 18\n"
     ]
    }
   ],
   "source": [
    "import pandas as pd\n",
    "import numpy as np\n",
    "import scanpy as sc\n",
    "\n",
    "# 读取第一个数据集\n",
    "cell_topic_path1 = \"/volume1/home/pxie/topic_model/ECRCTM/results/ecr_ctm_fusion_PBMC_t50_c.csv\"\n",
    "cell_topic_matrix1 = pd.read_csv(cell_topic_path1, index_col=0)  # 修正变量名\n",
    "cell_topic_matrix1 = cell_topic_matrix1.values  \n",
    "\n",
    "# 读取第二个数据集\n",
    "cell_topic_path2 = \"/volume1/home/pxie/topic_model/ECRCTM/results/ecr_ctm_fusion_Cortex_t50_c.csv\"\n",
    "cell_topic_matrix2 = pd.read_csv(cell_topic_path2, index_col=0)  # 修正变量名\n",
    "cell_topic_matrix2 = cell_topic_matrix2.values  \n",
    "\n",
    "# 读取AnnData文件\n",
    "adata_path1 = r\"/volume1/home/pxie/data/PBMC.h5ad\"\n",
    "adata_path2 = r\"/volume1/home/pxie/data/Cortex.h5ad\"\n",
    "\n",
    "# 假设preprocess_h5ad函数已定义\n",
    "adata1 = preprocess_h5ad(adata_path1)\n",
    "adata2 = preprocess_h5ad(adata_path2)\n",
    "\n",
    "cell_type_labels1 = adata1.obs[\"cell_type\"].values\n",
    "cell_type_labels2 = adata2.obs[\"cell_type\"].values\n",
    "\n",
    "# 修正np.vstack的用法 - 使用元组作为参数\n",
    "cell_topic_matrix = np.vstack((cell_topic_matrix1, cell_topic_matrix2))\n",
    "\n",
    "# 修正pd.concat的用法 - 需要将数组转换为Series或DataFrame\n",
    "# 对于numpy arrays，先转换成Series\n",
    "cell_type_labels = np.concatenate((cell_type_labels1, cell_type_labels2))\n",
    "\n",
    "# 如果需要转换为pandas Series\n",
    "cell_type_labels_series = pd.Series(cell_type_labels)\n",
    "\n",
    "# 打印合并后的形状以验证\n",
    "print(f\"合并后的cell_topic_matrix形状: {cell_topic_matrix.shape}\")\n",
    "print(f\"合并后的cell_type_labels长度: {len(set(cell_type_labels))}\")"
   ]
  },
  {
   "cell_type": "code",
   "execution_count": 6,
   "metadata": {},
   "outputs": [
    {
     "name": "stderr",
     "output_type": "stream",
     "text": [
      "/usr/local/anaconda3/lib/python3.9/site-packages/sklearn/cluster/_kmeans.py:870: FutureWarning: The default value of `n_init` will change from 10 to 'auto' in 1.4. Set the value of `n_init` explicitly to suppress the warning\n",
      "  warnings.warn(\n"
     ]
    },
    {
     "name": "stdout",
     "output_type": "stream",
     "text": [
      "ARI: 0.28661237839376913\n",
      "NMI: 0.5428891249939111\n"
     ]
    }
   ],
   "source": [
    "# 聚类 (K 取细胞类型数目)\n",
    "num_clusters = len(set(cell_type_labels))\n",
    "kmeans = KMeans(n_clusters=num_clusters, random_state=42)\n",
    "topic_clusters = kmeans.fit_predict(cell_topic_matrix)\n",
    "\n",
    "# 计算 ARI\n",
    "ari = adjusted_rand_score(cell_type_labels, topic_clusters)\n",
    "print(\"ARI:\", ari)\n",
    "\n",
    "# 计算 NMI\n",
    "nmi = normalized_mutual_info_score(cell_type_labels, topic_clusters)\n",
    "print(\"NMI:\", nmi)"
   ]
  }
 ],
 "metadata": {
  "kernelspec": {
   "display_name": "base",
   "language": "python",
   "name": "python3"
  },
  "language_info": {
   "codemirror_mode": {
    "name": "ipython",
    "version": 3
   },
   "file_extension": ".py",
   "mimetype": "text/x-python",
   "name": "python",
   "nbconvert_exporter": "python",
   "pygments_lexer": "ipython3",
   "version": "3.9.15"
  }
 },
 "nbformat": 4,
 "nbformat_minor": 2
}
