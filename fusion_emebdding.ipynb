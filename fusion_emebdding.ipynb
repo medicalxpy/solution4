{
 "cells": [
  {
   "cell_type": "code",
   "execution_count": 1,
   "id": "02a19969",
   "metadata": {},
   "outputs": [],
   "source": [
    "from utils.fusion_embedding import fuse_gene_embeddings,load_embeddings"
   ]
  },
  {
   "cell_type": "code",
   "execution_count": 2,
   "id": "1d8365f3",
   "metadata": {},
   "outputs": [
    {
     "name": "stdout",
     "output_type": "stream",
     "text": [
      "Embedding A中的基因数: 33622\n",
      "Embedding B中的基因数: 15779\n",
      "共有基因数: 15602\n"
     ]
    },
    {
     "name": "stderr",
     "output_type": "stream",
     "text": [
      "Training Progress: 100%|██████████| 300/300 [04:02<00:00,  1.24epoch/s, Avg Loss=0.1555]\n"
     ]
    },
    {
     "name": "stdout",
     "output_type": "stream",
     "text": [
      "融合后的基因嵌入已保存至: /volume1/home/pxie/data/embeddings/fused_embedding.pkl\n"
     ]
    }
   ],
   "source": [
    "embedding_path1=\"/volume1/home/pxie/data/embeddings/GenePT.pkl\"\n",
    "embedding_path2=\"/volume1/home/pxie/data/embeddings/gene.pkl\"\n",
    "embedding_a,embedding_b=load_embeddings(embedding_path1,embedding_path2)\n",
    "fused_embedding=fuse_gene_embeddings(embedding_a,embedding_b,device='cuda:0',epochs=300,show_progress=True\n",
    "                                     ,save_path=\"/volume1/home/pxie/data/embeddings/fused_embedding.pkl\")\n"
   ]
  },
  {
   "cell_type": "code",
   "execution_count": 3,
   "id": "860fc608",
   "metadata": {},
   "outputs": [
    {
     "name": "stdout",
     "output_type": "stream",
     "text": [
      "Embedding A中的基因数: 20271\n",
      "Embedding B中的基因数: 33622\n",
      "共有基因数: 19086\n"
     ]
    },
    {
     "name": "stderr",
     "output_type": "stream",
     "text": [
      "Training Progress: 100%|██████████| 300/300 [05:04<00:00,  1.01s/epoch, Avg Loss=0.0015]\n"
     ]
    },
    {
     "name": "stdout",
     "output_type": "stream",
     "text": [
      "融合后的基因嵌入已保存至: /volume1/home/pxie/data/embeddings/fused_geneformerv2_genePT.pkl\n"
     ]
    }
   ],
   "source": [
    "fused_embedding=fuse_gene_embeddings(embedding_b,embedding_a,device='cuda:0',epochs=300,show_progress=True\n",
    "                                     ,save_path=\"/volume1/home/pxie/data/embeddings/fused_geneformerv2_genePT.pkl\")\n"
   ]
  }
 ],
 "metadata": {
  "kernelspec": {
   "display_name": "base",
   "language": "python",
   "name": "python3"
  },
  "language_info": {
   "codemirror_mode": {
    "name": "ipython",
    "version": 3
   },
   "file_extension": ".py",
   "mimetype": "text/x-python",
   "name": "python",
   "nbconvert_exporter": "python",
   "pygments_lexer": "ipython3",
   "version": "3.9.15"
  }
 },
 "nbformat": 4,
 "nbformat_minor": 5
}
