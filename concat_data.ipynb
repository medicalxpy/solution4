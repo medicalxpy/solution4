{
 "cells": [
  {
   "cell_type": "code",
   "execution_count": null,
   "metadata": {},
   "outputs": [],
   "source": [
    "from data_preprocess import preprocess_h5ad\n",
    "import scanpy as sc\n",
    "import anndata"
   ]
  },
  {
   "cell_type": "code",
   "execution_count": 2,
   "metadata": {},
   "outputs": [],
   "source": [
    "adata1=preprocess_h5ad(\"/volume1/home/pxie/data/PBMC.h5ad\")\n",
    "adata2=preprocess_h5ad(\"/volume1/home/pxie/data/Cortex.h5ad\")\n",
    "\n"
   ]
  },
  {
   "cell_type": "code",
   "execution_count": 10,
   "metadata": {},
   "outputs": [
    {
     "name": "stdout",
     "output_type": "stream",
     "text": [
      "Combined shape after fix: (87455, 21432)\n",
      "Combined var shape after fix: (21432, 2)\n",
      "Combined var columns after fix: ['feature_name', 'ensembl_id']\n"
     ]
    }
   ],
   "source": [
    "import pandas as pd\n",
    "\n",
    "# 首先执行基本合并（不要使用 join 参数，它可能导致问题）\n",
    "combined = sc.concat([adata1, adata2], label='batch')\n",
    "\n",
    "# 手动创建新的 var 数据框\n",
    "# 确定最终的基因集（应该等于 combined.var_names）\n",
    "all_genes = combined.var_names\n",
    "\n",
    "# 创建新的 var 数据框\n",
    "new_var = pd.DataFrame(index=all_genes)\n",
    "\n",
    "# 添加 feature_name 列\n",
    "new_var['feature_name'] = pd.Series(dtype='object', index=all_genes)\n",
    "new_var['ensembl_id'] = pd.Series(dtype='object', index=all_genes)\n",
    "\n",
    "# 为每个数据集覆盖相应的基因\n",
    "for gene in adata1.var_names:\n",
    "    if gene in all_genes:\n",
    "        idx1 = adata1.var_names.get_loc(gene)\n",
    "        new_var.loc[gene, 'feature_name'] = adata1.var['feature_name'].iloc[idx1]\n",
    "        new_var.loc[gene, 'ensembl_id'] = adata1.var['ensembl_id'].iloc[idx1]\n",
    "\n",
    "for gene in adata2.var_names:\n",
    "    if gene in all_genes and gene not in adata1.var_names:\n",
    "        idx2 = adata2.var_names.get_loc(gene)\n",
    "        new_var.loc[gene, 'feature_name'] = adata2.var['feature_name'].iloc[idx2]\n",
    "        new_var.loc[gene, 'ensembl_id'] = adata2.var['ensembl_id'].iloc[idx2]\n",
    "\n",
    "# 将新的 var 数据框分配给合并后的对象\n",
    "combined.var = new_var\n",
    "\n",
    "# 验证结果\n",
    "print(\"Combined shape after fix:\", combined.shape)\n",
    "print(\"Combined var shape after fix:\", combined.var.shape)\n",
    "print(\"Combined var columns after fix:\", combined.var.columns.tolist())"
   ]
  },
  {
   "cell_type": "code",
   "execution_count": 11,
   "metadata": {},
   "outputs": [
    {
     "data": {
      "text/plain": [
       "AnnData object with n_obs × n_vars = 87455 × 21432\n",
       "    obs: 'nCount_RNA', 'nFeature_RNA', 'sample', 'donor_id', 'sex_ontology_term_id', 'percent.mt', 'development_stage_ontology_term_id', 'cell_type_ontology_term_id', 'self_reported_ethnicity_ontology_term_id', 'assay_ontology_term_id', 'suspension_type', 'is_primary_data', 'tissue_type', 'tissue_ontology_term_id', 'organism_ontology_term_id', 'disease_ontology_term_id', 'cell_type', 'assay', 'disease', 'organism', 'sex', 'tissue', 'self_reported_ethnicity', 'development_stage', 'observation_joinid', 'n_genes', 'batch'\n",
       "    var: 'feature_name', 'ensembl_id'\n",
       "    obsm: 'X_umap'"
      ]
     },
     "execution_count": 11,
     "metadata": {},
     "output_type": "execute_result"
    }
   ],
   "source": [
    "combined"
   ]
  },
  {
   "cell_type": "code",
   "execution_count": 12,
   "metadata": {},
   "outputs": [],
   "source": [
    "combined.write_h5ad('/volume1/home/pxie/data/combined_data.h5ad')"
   ]
  }
 ],
 "metadata": {
  "kernelspec": {
   "display_name": "base",
   "language": "python",
   "name": "python3"
  },
  "language_info": {
   "codemirror_mode": {
    "name": "ipython",
    "version": 3
   },
   "file_extension": ".py",
   "mimetype": "text/x-python",
   "name": "python",
   "nbconvert_exporter": "python",
   "pygments_lexer": "ipython3",
   "version": "3.9.15"
  }
 },
 "nbformat": 4,
 "nbformat_minor": 2
}
